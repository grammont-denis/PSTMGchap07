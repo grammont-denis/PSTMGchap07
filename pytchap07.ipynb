{
 "cells": [
  {
   "cell_type": "markdown",
   "metadata": {},
   "source": [
    "Interaction n°1\n",
    "Compléter le programme n°1 suivant qui simule le lancer de deux dés pour jouer aux petits chevaux."
   ]
  },
  {
   "cell_type": "code",
   "execution_count": null,
   "metadata": {},
   "outputs": [],
   "source": [
    "from math import *\n",
    "from random import *\n",
    "A=randint###\n",
    "B=randint###\n",
    "S=A+B\n",
    "print(\"Avancez de\",###,\"cases\")"
   ]
  },
  {
   "cell_type": "markdown",
   "metadata": {},
   "source": [
    "Interaction n°2\n",
    "Puis modifier le (programme n°2) pour qu’en cas de réalisation du 12, le programme vous rappelle de rejouer."
   ]
  },
  {
   "cell_type": "code",
   "execution_count": null,
   "metadata": {},
   "outputs": [],
   "source": [
    "from math import *\n",
    "from random import *\n",
    "A=randint###\n",
    "B=randint###\n",
    "S=A+B\n",
    "print(\"Avancez de\",###,\"cases\")\n",
    "###\n",
    "print(\"et rejouer\")"
   ]
  },
  {
   "cell_type": "markdown",
   "metadata": {},
   "source": [
    "Interaction n°3\n",
    "On lance deux pièces équilibrées l’une après l’autre. Compléter le programme n°3 qui donne le résultat sous la forme (par exemple) pile-face."
   ]
  },
  {
   "cell_type": "code",
   "execution_count": null,
   "metadata": {},
   "outputs": [],
   "source": [
    "from math import *\n",
    "from random import *\n",
    "A=randint###\n",
    "B=randint###\n",
    "if A==0 :\n",
    "C=\"pile\"\n",
    "###\n",
    "###\n",
    "if B###\n",
    "D=###\n",
    "###\n",
    "###\n",
    "print(\"le resultat est\"###"
   ]
  },
  {
   "cell_type": "markdown",
   "metadata": {},
   "source": [
    "Interaction n°4\n",
    "Modifier le programme n°4 pour qu’en plus le programme signale si les deux pièces sont du même côté ou de côtés différents."
   ]
  },
  {
   "cell_type": "code",
   "execution_count": null,
   "metadata": {},
   "outputs": [],
   "source": [
    "from math import *\n",
    "from random import *\n",
    "A=randint###\n",
    "B=randint###\n",
    "if A==0 :\n",
    "C=\"pile\"\n",
    "###\n",
    "###\n",
    "if B###\n",
    "D=###\n",
    "###\n",
    "###\n",
    "print(\"le resultat est\"###\n",
    "###\n",
    "###"
   ]
  },
  {
   "cell_type": "markdown",
   "metadata": {},
   "source": [
    "Interaction n°5\n",
    "Le programme suivant simule le tirage au sort d’une bille dans une urne (50 billes numérotées de 1 à 50). Transformer dans un premier temps le programme pour qu’il simule le tirage au sort d’une bille parmi 20, puis dans un deuxième temps, le tirage au sort de deux billes (parmi 20) avec remise entre les deux."
   ]
  },
  {
   "cell_type": "code",
   "execution_count": null,
   "metadata": {},
   "outputs": [],
   "source": [
    "from math import *\n",
    "from random import *\n",
    "B=randint(1,50)\n",
    "print(\"resultat : bille\",B)"
   ]
  },
  {
   "cell_type": "code",
   "execution_count": null,
   "metadata": {},
   "outputs": [],
   "source": [
    "from math import *\n",
    "from random import *\n",
    "###=randint###\n",
    "###\n",
    "print(\"resultat : bille 1 :\"###\n",
    "print(\"resultat : bille 2 ###"
   ]
  },
  {
   "cell_type": "markdown",
   "metadata": {},
   "source": [
    "Interaction n°6\n",
    "Remplir le tableau des variables pour comprendre ce que réalise ce programme."
   ]
  },
  {
   "cell_type": "code",
   "execution_count": null,
   "metadata": {},
   "outputs": [],
   "source": [
    "from math import *\n",
    "from random import *\n",
    "def S2D() :\n",
    "    A=randint(1,6)\n",
    "    B=randint(1,6)\n",
    "    S=A+B\n",
    "    return (S)\n",
    "\n",
    "N7=0\n",
    "for n in range(1,11) :\n",
    "r=S2D()\n",
    "if r==7 :\n",
    "    N7=N7+1\n",
    "f7=N7/10*100\n",
    "print(\"frequence du 7 dans l’echantillon\",f7,\"%\")"
   ]
  },
  {
   "cell_type": "markdown",
   "metadata": {},
   "source": [
    "Interaction n°7\n",
    "Le programme suivant simule une épreuve de Bernoulli avec une probabilité p de succès réglable.\n",
    "Modifier ce programme pour qu’il simule 4 répétitions de cette épreuve."
   ]
  },
  {
   "cell_type": "code",
   "execution_count": null,
   "metadata": {},
   "outputs": [],
   "source": [
    "from math import *\n",
    "from random import *\n",
    "p=float(input(\"proba succes en %\"))\n",
    "r=uniform(0,100)\n",
    "if r<=p :\n",
    "    X=1\n",
    "else :\n",
    "    X=0\n",
    "print(\"resultat :\",X)"
   ]
  },
  {
   "cell_type": "code",
   "execution_count": null,
   "metadata": {},
   "outputs": [],
   "source": [
    "from math import *\n",
    "from random import *\n",
    "p=float(input(\"proba succes en %\"))\n",
    "###\n",
    "for i in range (1,5) :\n",
    "r=uniform(0,100)\n",
    "if r<=p :\n",
    "    X=1\n",
    "else :\n",
    "    X=0\n",
    "###\n",
    "print(\"resultat : \"###"
   ]
  }
 ],
 "metadata": {
  "kernelspec": {
   "display_name": "Python 3",
   "language": "python",
   "name": "python3"
  },
  "language_info": {
   "codemirror_mode": {
    "name": "ipython",
    "version": 3
   },
   "file_extension": ".py",
   "mimetype": "text/x-python",
   "name": "python",
   "nbconvert_exporter": "python",
   "pygments_lexer": "ipython3",
   "version": "3.7.6"
  }
 },
 "nbformat": 4,
 "nbformat_minor": 4
}
